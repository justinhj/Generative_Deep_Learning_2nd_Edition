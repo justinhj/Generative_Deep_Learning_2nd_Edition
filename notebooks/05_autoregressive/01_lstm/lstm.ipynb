{
 "cells": [
  {
   "cell_type": "markdown",
   "id": "b076bd1a-b236-4fbc-953d-8295b25122ae",
   "metadata": {},
   "source": [
    "# 🥙 LSTM on Recipe Data"
   ]
  },
  {
   "cell_type": "markdown",
   "id": "658a95da-9645-4bcf-bd9d-4b95a4b6f582",
   "metadata": {},
   "source": [
    "In this notebook, we'll walk through the steps required to train your own LSTM on the recipes dataset"
   ]
  },
  {
   "cell_type": "code",
   "execution_count": 1,
   "id": "4e0d56cc-4773-4029-97d8-26f882ba79c9",
   "metadata": {},
   "outputs": [
    {
     "name": "stderr",
     "output_type": "stream",
     "text": [
      "2023-10-29 17:21:10.022560: I tensorflow/core/platform/cpu_feature_guard.cc:193] This TensorFlow binary is optimized with oneAPI Deep Neural Network Library (oneDNN) to use the following CPU instructions in performance-critical operations:  AVX2 FMA\n",
      "To enable them in other operations, rebuild TensorFlow with the appropriate compiler flags.\n",
      "2023-10-29 17:21:13.008197: W tensorflow/stream_executor/platform/default/dso_loader.cc:64] Could not load dynamic library 'libcudart.so.11.0'; dlerror: libcudart.so.11.0: cannot open shared object file: No such file or directory\n",
      "2023-10-29 17:21:13.016032: I tensorflow/stream_executor/cuda/cudart_stub.cc:29] Ignore above cudart dlerror if you do not have a GPU set up on your machine.\n",
      "2023-10-29 17:21:13.261593: E tensorflow/stream_executor/cuda/cuda_blas.cc:2981] Unable to register cuBLAS factory: Attempting to register factory for plugin cuBLAS when one has already been registered\n",
      "2023-10-29 17:21:17.303205: W tensorflow/stream_executor/platform/default/dso_loader.cc:64] Could not load dynamic library 'libnvinfer.so.7'; dlerror: libnvinfer.so.7: cannot open shared object file: No such file or directory\n",
      "2023-10-29 17:21:17.303572: W tensorflow/stream_executor/platform/default/dso_loader.cc:64] Could not load dynamic library 'libnvinfer_plugin.so.7'; dlerror: libnvinfer_plugin.so.7: cannot open shared object file: No such file or directory\n",
      "2023-10-29 17:21:17.303604: W tensorflow/compiler/tf2tensorrt/utils/py_utils.cc:38] TF-TRT Warning: Cannot dlopen some TensorRT libraries. If you would like to use Nvidia GPU with TensorRT, please make sure the missing libraries mentioned above are installed properly.\n"
     ]
    }
   ],
   "source": [
    "%load_ext autoreload\n",
    "%autoreload 2\n",
    "\n",
    "import numpy as np\n",
    "import json\n",
    "import re\n",
    "import string\n",
    "\n",
    "import tensorflow as tf\n",
    "from tensorflow.keras import layers, models, callbacks, losses"
   ]
  },
  {
   "cell_type": "markdown",
   "id": "339e6268-ebd7-4feb-86db-1fe7abccdbe5",
   "metadata": {},
   "source": [
    "## 0. Parameters <a name=\"parameters\"></a>"
   ]
  },
  {
   "cell_type": "code",
   "execution_count": 24,
   "id": "2d8352af-343e-4c2e-8c91-95f8bac1c8a1",
   "metadata": {},
   "outputs": [],
   "source": [
    "VOCAB_SIZE = 10000\n",
    "MAX_LEN = 200\n",
    "EMBEDDING_DIM = 100\n",
    "N_UNITS = 128\n",
    "VALIDATION_SPLIT = 0.2\n",
    "SEED = 42\n",
    "LOAD_MODEL = False\n",
    "BATCH_SIZE = 32\n",
    "EPOCHS = 25"
   ]
  },
  {
   "cell_type": "markdown",
   "id": "b7716fac-0010-49b0-b98e-53be2259edde",
   "metadata": {},
   "source": [
    "## 1. Load the data <a name=\"load\"></a>"
   ]
  },
  {
   "cell_type": "code",
   "execution_count": 2,
   "id": "93cf6b0f-9667-4146-8911-763a8a2925d3",
   "metadata": {
    "tags": []
   },
   "outputs": [],
   "source": [
    "# Load the full dataset\n",
    "with open(\"/app/data/epirecipes/full_format_recipes.json\") as json_data:\n",
    "    recipe_data = json.load(json_data)"
   ]
  },
  {
   "cell_type": "code",
   "execution_count": 3,
   "id": "23a74eca-f1b7-4a46-9a1f-b5806a4ed361",
   "metadata": {
    "tags": []
   },
   "outputs": [],
   "source": [
    "# Filter the dataset\n",
    "filtered_data = [\n",
    "    \"Recipe for \" + x[\"title\"] + \" | \" + \" \".join(x[\"directions\"])\n",
    "    for x in recipe_data\n",
    "    if \"title\" in x\n",
    "    and x[\"title\"] is not None\n",
    "    and \"directions\" in x\n",
    "    and x[\"directions\"] is not None\n",
    "]"
   ]
  },
  {
   "cell_type": "code",
   "execution_count": 18,
   "id": "389c20de-0422-4c48-a7b4-6ee12a7bf0e2",
   "metadata": {
    "tags": []
   },
   "outputs": [
    {
     "name": "stdout",
     "output_type": "stream",
     "text": [
      "20111 recipes loaded\n"
     ]
    }
   ],
   "source": [
    "# Count the recipes\n",
    "n_recipes = len(filtered_data)\n",
    "print(f\"{n_recipes} recipes loaded\")"
   ]
  },
  {
   "cell_type": "code",
   "execution_count": 20,
   "id": "1b2e3cf7-e416-460e-874a-0dd9637bca36",
   "metadata": {},
   "outputs": [
    {
     "name": "stdout",
     "output_type": "stream",
     "text": [
      "Recipe for Boudin Blanc Terrine with Red Onion Confit  | Combine first 9 ingredients in heavy medium saucepan. Add 3 shallots. Bring to simmer. Remove from heat, cover and let stand 30 minutes. Chill overnight. Preheat oven to 325°F. Line 7-cup pâté or bread pan with plastic wrap. Melt butter in heavy small skillet over low heat. Add remaining 5 shallots. Cover and cook until very soft, stirring occasionally, about 15 minutes. Transfer to processor. Add pork, eggs, flour and Port and puree. Strain cream mixture, pressing on solids to extract as much liquid as possible. With processor running, add cream through feed tube and process just until combined with pork. Transfer to large bowl. Mix in currants. Spoon mixture into prepared pan. Cover with foil. Place pan in large pan. Add boiling water to larger pan to within 1/2 inch of top of terrine. Bake until terrine begins to shrink from sides of pan and knife inserted into center comes out clean, about 1 1/2 hours. Uncover and cool on rack. Chill until cold. (Can be made 3 days ahead. Cover and chill.) Line platter with lettuce. Arrange terrine atop. Sprinkle with pepper and parsley. Garnish with bay leaves. Spoon confit around sides. Serve with bread. Heat oil in heavy large skillet over medium-high heat. Add onions and sauté until crisp-tender, about 8 minutes. Add all remaining ingredients and stir until reduced to thick glaze, about 4 minutes. Season with salt and pepper. (Can be prepared 2 days ahead. Cover and chill.) Serve warm or at room temperature.\n"
     ]
    }
   ],
   "source": [
    "example = filtered_data[1]\n",
    "print(example)"
   ]
  },
  {
   "cell_type": "markdown",
   "id": "3f871aaf-d873-41c7-8946-e4eef7ac17c1",
   "metadata": {},
   "source": [
    "## 2. Tokenise the data"
   ]
  },
  {
   "cell_type": "code",
   "execution_count": 21,
   "id": "5b2064fb-5dcc-4657-b470-0928d10e2ddc",
   "metadata": {
    "tags": []
   },
   "outputs": [],
   "source": [
    "# Pad the punctuation, to treat them as separate 'words'\n",
    "def pad_punctuation(s):\n",
    "    s = re.sub(f\"([{string.punctuation}])\", r\" \\1 \", s)\n",
    "    s = re.sub(\" +\", \" \", s)\n",
    "    return s\n",
    "\n",
    "\n",
    "text_data = [pad_punctuation(x) for x in filtered_data]"
   ]
  },
  {
   "cell_type": "code",
   "execution_count": 22,
   "id": "b87d7c65-9a46-492a-a5c0-a043b0d252f3",
   "metadata": {},
   "outputs": [
    {
     "data": {
      "text/plain": [
       "'Recipe for Ham Persillade with Mustard Potato Salad and Mashed Peas | Chop enough parsley leaves to measure 1 tablespoon ; reserve . Chop remaining leaves and stems and simmer with broth and garlic in a small saucepan , covered , 5 minutes . Meanwhile , sprinkle gelatin over water in a medium bowl and let soften 1 minute . Strain broth through a fine - mesh sieve into bowl with gelatin and stir to dissolve . Season with salt and pepper . Set bowl in an ice bath and cool to room temperature , stirring . Toss ham with reserved parsley and divide among jars . Pour gelatin on top and chill until set , at least 1 hour . Whisk together mayonnaise , mustard , vinegar , 1 / 4 teaspoon salt , and 1 / 4 teaspoon pepper in a large bowl . Stir in celery , cornichons , and potatoes . Pulse peas with marjoram , oil , 1 / 2 teaspoon pepper , and 1 / 4 teaspoon salt in a food processor to a coarse mash . Layer peas , then potato salad , over ham . '"
      ]
     },
     "execution_count": 22,
     "metadata": {},
     "output_type": "execute_result"
    }
   ],
   "source": [
    "# Display an example of a recipe\n",
    "example_data = text_data[9]\n",
    "example_data"
   ]
  },
  {
   "cell_type": "code",
   "execution_count": 25,
   "id": "9834f916-b21a-4104-acc9-f28d3bd7a8c1",
   "metadata": {
    "tags": []
   },
   "outputs": [],
   "source": [
    "# Convert to a Tensorflow Dataset\n",
    "text_ds = (\n",
    "    tf.data.Dataset.from_tensor_slices(text_data)\n",
    "    .batch(BATCH_SIZE)\n",
    "    .shuffle(1000)\n",
    ")"
   ]
  },
  {
   "cell_type": "code",
   "execution_count": 26,
   "id": "884c0bcb-0807-45a1-8f7e-a32f2c6fa4de",
   "metadata": {},
   "outputs": [],
   "source": [
    "# Create a vectorisation layer\n",
    "vectorize_layer = layers.TextVectorization(\n",
    "    standardize=\"lower\",\n",
    "    max_tokens=VOCAB_SIZE,\n",
    "    output_mode=\"int\",\n",
    "    output_sequence_length=MAX_LEN + 1,\n",
    ")"
   ]
  },
  {
   "cell_type": "code",
   "execution_count": 31,
   "id": "4d6dd34a-d905-497b-926a-405380ebcf98",
   "metadata": {},
   "outputs": [],
   "source": [
    "# Adapt the layer to the training set\n",
    "vectorize_layer.adapt(text_ds)\n",
    "vocab = vectorize_layer.get_vocabulary()"
   ]
  },
  {
   "cell_type": "code",
   "execution_count": 34,
   "id": "f6c1c7ce-3cf0-40d4-a3dc-ab7090f69f2f",
   "metadata": {},
   "outputs": [
    {
     "name": "stdout",
     "output_type": "stream",
     "text": [
      "0: .\n",
      "1: ,\n",
      "2: and\n",
      "3: to\n",
      "4: in\n",
      "5: the\n",
      "6: with\n",
      "7: a\n",
      "8: until\n",
      "9: 1\n",
      "10: minutes\n",
      "11: -\n",
      "12: of\n",
      "13: 2\n",
      "14: for\n",
      "15: heat\n",
      "16: add\n",
      "17: about\n",
      "18: over\n",
      "19: bowl\n",
      "20: ;\n",
      "21: /\n",
      "22: salt\n",
      "23: into\n",
      "24: recipe\n",
      "25: |\n",
      "26: on\n",
      "27: medium\n",
      "28: large\n",
      "29: mixture\n",
      "30: 4\n",
      "31: pepper\n",
      "32: (\n",
      "33: )\n",
      "34: 3\n",
      "35: oil\n",
      "36: is\n",
      "37: water\n",
      "38: transfer\n",
      "39: or\n",
      "40: stir\n",
      "41: cook\n",
      "42: pan\n",
      "43: remaining\n",
      "44: then\n",
      "45: oven\n",
      "46: stirring\n",
      "47: cover\n"
     ]
    }
   ],
   "source": [
    "# Display some token:word mappings\n",
    "for i, word in enumerate(vocab[2:50]):\n",
    "    print(f\"{i}: {word}\")"
   ]
  },
  {
   "cell_type": "code",
   "execution_count": 35,
   "id": "1cc30186-7ec6-4eb6-b29a-65df6714d321",
   "metadata": {},
   "outputs": [
    {
     "name": "stdout",
     "output_type": "stream",
     "text": [
      "[  26   16  557    1    8  298  335  189    4 1054  494   27  332  228\n",
      "  235  262    5  594   11  133   22  311    2  332   45  262    4  671\n",
      "    4   70    8  171    4   81    6    9   65   80    3  121    3   59\n",
      "   12    2  299    3   88  650   20   39    6    9   29   21    4   67\n",
      "  529   11  164    2  320  171  102    9  374   13  643  306   25   21\n",
      "    8  650    4   42    5  931    2   63    8   24    4   33    2  114\n",
      "   21    6  178  181 1245    4   60    5  140  112    3   48    2  117\n",
      "  557    8  285  235    4  200  292  980    2  107  650   28   72    4\n",
      "  108   10  114    3   57  204   11  172    2   73  110  482    3  298\n",
      "    3  190    3   11   23   32  142   24    3    4   11   23   32  142\n",
      "   33    6    9   30   21    2   42    6  353    3 3224    3    4  150\n",
      "    2  437  494    8 1281    3   37    3   11   23   15  142   33    3\n",
      "    4   11   23   32  142   24    6    9  291  188    5    9  412  572\n",
      "    2  230  494    3   46  335  189    3   20  557    2    0    0    0\n",
      "    0    0    0    0    0]\n"
     ]
    }
   ],
   "source": [
    "# Display the same example converted to ints\n",
    "example_tokenised = vectorize_layer(example_data)\n",
    "print(example_tokenised.numpy())"
   ]
  },
  {
   "cell_type": "markdown",
   "id": "8c195efb-84c6-4be0-a989-a7542188ad35",
   "metadata": {},
   "source": [
    "## 3. Create the Training Set"
   ]
  },
  {
   "cell_type": "code",
   "execution_count": 37,
   "id": "740294a1-1a6b-4c89-92f2-036d7d1b788b",
   "metadata": {},
   "outputs": [],
   "source": [
    "# Create the training set of recipes and the same text shifted by one word\n",
    "def prepare_inputs(text):\n",
    "    text = tf.expand_dims(text, -1)\n",
    "    tokenized_sentences = vectorize_layer(text)\n",
    "    x = tokenized_sentences[:, :-1]\n",
    "    y = tokenized_sentences[:, 1:]\n",
    "    return x, y\n",
    "\n",
    "\n",
    "train_ds = text_ds.map(prepare_inputs)"
   ]
  },
  {
   "cell_type": "markdown",
   "id": "aff50401-3abe-4c10-bba8-b35bc13ad7d5",
   "metadata": {
    "tags": []
   },
   "source": [
    "## 4. Build the LSTM <a name=\"build\"></a>"
   ]
  },
  {
   "cell_type": "code",
   "execution_count": 54,
   "id": "9230b5bf-b4a8-48d5-b73b-6899a598f296",
   "metadata": {},
   "outputs": [
    {
     "name": "stdout",
     "output_type": "stream",
     "text": [
      "Model: \"model\"\n",
      "_________________________________________________________________\n",
      " Layer (type)                Output Shape              Param #   \n",
      "=================================================================\n",
      " input_1 (InputLayer)        [(None, None)]            0         \n",
      "                                                                 \n",
      " embedding (Embedding)       (None, None, 100)         1000000   \n",
      "                                                                 \n",
      " lstm (LSTM)                 (None, None, 128)         117248    \n",
      "                                                                 \n",
      " dense (Dense)               (None, None, 10000)       1290000   \n",
      "                                                                 \n",
      "=================================================================\n",
      "Total params: 2,407,248\n",
      "Trainable params: 2,407,248\n",
      "Non-trainable params: 0\n",
      "_________________________________________________________________\n"
     ]
    }
   ],
   "source": [
    "inputs = layers.Input(shape=(None,), dtype=\"int32\")\n",
    "x = layers.Embedding(VOCAB_SIZE, EMBEDDING_DIM)(inputs)\n",
    "x = layers.LSTM(N_UNITS, return_sequences=True)(x)\n",
    "outputs = layers.Dense(VOCAB_SIZE, activation=\"softmax\")(x)\n",
    "lstm = models.Model(inputs, outputs)\n",
    "lstm.summary()"
   ]
  },
  {
   "cell_type": "code",
   "execution_count": 55,
   "id": "800a3c6e-fb11-4792-b6bc-9a43a7c977ad",
   "metadata": {
    "tags": []
   },
   "outputs": [],
   "source": [
    "if LOAD_MODEL:\n",
    "    # model.load_weights('./models/model')\n",
    "    lstm = models.load_model(\"./models/lstm\", compile=False)"
   ]
  },
  {
   "cell_type": "markdown",
   "id": "35b14665-4359-447b-be58-3fd58ba69084",
   "metadata": {},
   "source": [
    "## 5. Train the LSTM <a name=\"train\"></a>"
   ]
  },
  {
   "cell_type": "code",
   "execution_count": 56,
   "id": "ffb1bd3b-6fd9-4536-973e-6375bbcbf16d",
   "metadata": {},
   "outputs": [],
   "source": [
    "loss_fn = losses.SparseCategoricalCrossentropy()\n",
    "lstm.compile(\"adam\", loss_fn)"
   ]
  },
  {
   "cell_type": "code",
   "execution_count": 57,
   "id": "3ddcff5f-829d-4449-99d2-9a3cb68f7d72",
   "metadata": {},
   "outputs": [],
   "source": [
    "# Create a TextGenerator checkpoint\n",
    "class TextGenerator(callbacks.Callback):\n",
    "    def __init__(self, index_to_word, top_k=10):\n",
    "        self.index_to_word = index_to_word\n",
    "        self.word_to_index = {\n",
    "            word: index for index, word in enumerate(index_to_word)\n",
    "        }  # <1>\n",
    "\n",
    "    def sample_from(self, probs, temperature):  # <2>\n",
    "        probs = probs ** (1 / temperature)\n",
    "        probs = probs / np.sum(probs)\n",
    "        return np.random.choice(len(probs), p=probs), probs\n",
    "\n",
    "    def generate(self, start_prompt, max_tokens, temperature):\n",
    "        start_tokens = [\n",
    "            self.word_to_index.get(x, 1) for x in start_prompt.split()\n",
    "        ]  # <3>\n",
    "        sample_token = None\n",
    "        info = []\n",
    "        while len(start_tokens) < max_tokens and sample_token != 0:  # <4>\n",
    "            x = np.array([start_tokens])\n",
    "            y = self.model.predict(x, verbose=0)  # <5>\n",
    "            sample_token, probs = self.sample_from(y[0][-1], temperature)  # <6>\n",
    "            info.append({\"prompt\": start_prompt, \"word_probs\": probs})\n",
    "            start_tokens.append(sample_token)  # <7>\n",
    "            start_prompt = start_prompt + \" \" + self.index_to_word[sample_token]\n",
    "        print(f\"\\ngenerated text:\\n{start_prompt}\\n\")\n",
    "        return info\n",
    "\n",
    "    def on_epoch_end(self, epoch, logs=None):\n",
    "        self.generate(\"recipe for\", max_tokens=100, temperature=1.0)"
   ]
  },
  {
   "cell_type": "code",
   "execution_count": 58,
   "id": "349865fe-ffbe-450e-97be-043ae1740e78",
   "metadata": {},
   "outputs": [],
   "source": [
    "# Create a model save checkpoint\n",
    "model_checkpoint_callback = callbacks.ModelCheckpoint(\n",
    "    filepath=\"./checkpoint/checkpoint.ckpt\",\n",
    "    save_weights_only=True,\n",
    "    save_freq=\"epoch\",\n",
    "    verbose=0,\n",
    ")\n",
    "\n",
    "tensorboard_callback = callbacks.TensorBoard(log_dir=\"./logs\")\n",
    "\n",
    "# Tokenize starting prompt\n",
    "text_generator = TextGenerator(vocab)"
   ]
  },
  {
   "cell_type": "code",
   "execution_count": 59,
   "id": "461c2b3e-b5ae-4def-8bd9-e7bab8c63d8e",
   "metadata": {
    "tags": []
   },
   "outputs": [
    {
     "name": "stdout",
     "output_type": "stream",
     "text": [
      "Epoch 1/25\n"
     ]
    },
    {
     "name": "stderr",
     "output_type": "stream",
     "text": [
      "2023-10-29 17:53:03.470085: W tensorflow/core/framework/cpu_allocator_impl.cc:82] Allocation of 256000000 exceeds 10% of free system memory.\n"
     ]
    },
    {
     "name": "stdout",
     "output_type": "stream",
     "text": [
      "  1/629 [..............................] - ETA: 1:29:12 - loss: 9.2105"
     ]
    },
    {
     "name": "stderr",
     "output_type": "stream",
     "text": [
      "2023-10-29 17:53:09.608897: W tensorflow/core/framework/cpu_allocator_impl.cc:82] Allocation of 256000000 exceeds 10% of free system memory.\n"
     ]
    },
    {
     "name": "stdout",
     "output_type": "stream",
     "text": [
      "  2/629 [..............................] - ETA: 17:54 - loss: 9.2084  "
     ]
    },
    {
     "name": "stderr",
     "output_type": "stream",
     "text": [
      "2023-10-29 17:53:11.234393: W tensorflow/core/framework/cpu_allocator_impl.cc:82] Allocation of 256000000 exceeds 10% of free system memory.\n"
     ]
    },
    {
     "name": "stdout",
     "output_type": "stream",
     "text": [
      "  3/629 [..............................] - ETA: 20:02 - loss: 9.2062"
     ]
    },
    {
     "name": "stderr",
     "output_type": "stream",
     "text": [
      "2023-10-29 17:53:13.517120: W tensorflow/core/framework/cpu_allocator_impl.cc:82] Allocation of 256000000 exceeds 10% of free system memory.\n"
     ]
    },
    {
     "name": "stdout",
     "output_type": "stream",
     "text": [
      "  4/629 [..............................] - ETA: 28:14 - loss: 9.2038"
     ]
    },
    {
     "name": "stderr",
     "output_type": "stream",
     "text": [
      "2023-10-29 17:53:17.656296: W tensorflow/core/framework/cpu_allocator_impl.cc:82] Allocation of 256000000 exceeds 10% of free system memory.\n"
     ]
    },
    {
     "name": "stdout",
     "output_type": "stream",
     "text": [
      "629/629 [==============================] - ETA: 0s - loss: 4.4075\n",
      "generated text:\n",
      "recipe for roasted in port uncovered to 350°f , with ingredients in 1 1 to onion . cover , in large - center . high in help mixer cooking and 2 liquid with 1 just the remains to salt . large heated . pepper \n",
      "\n",
      "629/629 [==============================] - 594s 933ms/step - loss: 4.4075\n",
      "Epoch 2/25\n",
      "629/629 [==============================] - ETA: 0s - loss: 3.0415\n",
      "generated text:\n",
      "recipe for melon - green rice with raisins with blackberry slaw | preheat oven to 300°f . \n",
      "\n",
      "629/629 [==============================] - 533s 847ms/step - loss: 3.0415\n",
      "Epoch 3/25\n",
      "629/629 [==============================] - ETA: 0s - loss: 2.5152\n",
      "generated text:\n",
      "recipe for poached vegetables | preheat oven to 400°f . mix off potatoes , sautéed garlic , and pepper in a same bowl with 1 / 2 tsp . ( can be mixer shell turn over high heat and turn in batches , then chill flavors , about 16 minutes . \n",
      "\n",
      "629/629 [==============================] - 539s 856ms/step - loss: 2.5152\n",
      "Epoch 4/25\n",
      "629/629 [==============================] - ETA: 0s - loss: 2.2755\n",
      "generated text:\n",
      "recipe for plantain tart with yogurt | roast pork , cinnamon , vegetable , orange juice , white garlic and rosemary sprigs with shortening . beat in bowl gently dressing to grape . grill until tender , about 3 / 2 hours . ) transfer pork to chunks . dip tortilla between evenly jars for prepared pan . spread onto tomatoes . \n",
      "\n",
      "629/629 [==============================] - 4891s 8s/step - loss: 2.2755\n",
      "Epoch 5/25\n",
      "629/629 [==============================] - ETA: 0s - loss: 2.1280\n",
      "generated text:\n",
      "recipe for rum and rum chip raspberry mousse | preheat oven to 375°f . add chocolate nuts and pepper to taste and cinnamon . cool . set 8 - inch shallow bowl with remaining wok \" fat from egg . divide between bowls . top each slice with strips and season with salt and pepper . do ahead : can be prepared dish , store in airtight layer ahead ; cover , covered . chill 10 minutes . ( can be made 2 days ahead . cover ; let stand 10 hours before serving . sift flour to lard and\n",
      "\n",
      "629/629 [==============================] - 1355s 2s/step - loss: 2.1280\n",
      "Epoch 6/25\n",
      "629/629 [==============================] - ETA: 0s - loss: 2.0277\n",
      "generated text:\n",
      "recipe for herb - mushrooms with rum nest | in a heavy saucepan cook the fish the butter over low heat . set over mixing 9x9x2 - high heat until the bowl and drain , being careful not burn , to season with flour and brush with salt . a stand - be made 1 day ahead . keep keep for 5 minutes . reduce oven temperature to the chiles , reheat in a preheated 200°f . grill the oven , pour it into another disk . flip sauce on both sides and remove on the pan ( see [UNK]\n",
      "\n",
      "629/629 [==============================] - 4547s 7s/step - loss: 2.0277\n",
      "Epoch 7/25\n",
      "629/629 [==============================] - ETA: 0s - loss: 1.9515\n",
      "generated text:\n",
      "recipe for artichokes with saffron chips | rinse halve bulb and discard stems . cut off heats from rounds in bowl . working once liquid , stirring consistency of syrup , 10 minutes longer . stir in remaining ingredients ; stir to combine . add onion and remaining 1 cup water . simmer ; simmer until fennel is golden and vegetables are tender and tender , about 30 minutes . cool completely . whisk together mascarpone flour , baking powder , and salt in large bowl and mix in a sized bowl . beat in sugar , sugar , chopped\n",
      "\n",
      "629/629 [==============================] - 1679s 3s/step - loss: 1.9515\n",
      "Epoch 8/25\n",
      "629/629 [==============================] - ETA: 0s - loss: 1.8919\n",
      "generated text:\n",
      "recipe for raspberry - mustard ice cream | in a large heavy saucepan , high heat until smooth , about 2 minutes . add pod and toss well . cook , then boil the mixture until thickened , about 5 minutes , then transfer to a stream and stir slightly into wok . marinate for at least 2 days to 350°f 30 days or preheat oven , 1 roll each tart on a baking sheet . buttered rack in middle . soak chicken in one corner - hot heat , until golden , about 13 seconds or until chunky ,\n",
      "\n",
      "629/629 [==============================] - 1657s 3s/step - loss: 1.8919\n",
      "Epoch 9/25\n",
      "629/629 [==============================] - ETA: 0s - loss: 1.8424\n",
      "generated text:\n",
      "recipe for summer pea beef salad | 1 . combine pork , stock , garlic and lime juice in a medium bowl or already soup after each caramelized and stir the blueberries with a stream . taste , pear and vinegar . \n",
      "\n",
      "629/629 [==============================] - 3544s 6s/step - loss: 1.8424\n",
      "Epoch 10/25\n",
      "629/629 [==============================] - ETA: 0s - loss: 1.8009\n",
      "generated text:\n",
      "recipe for sophisticated stir - roasted chili | simmer medium cakes in medium saucepan . add cream and bring to boil . reduce heat and simmer until mixture thickens , about 5 minutes . remove pork from heat and reserve skillet . add egg yolk , chili , vinegar , 2 teaspoons ginger paste , 1 2 / 3 cup feta , chopped vinegar , and reserved soaking liquid . sauté until center is almost tender , about 3 minutes . transfer to paper towels . pour into 12 pieces . divide into sauce and 6 . heat 5 tablespoons\n",
      "\n",
      "629/629 [==============================] - 1307s 2s/step - loss: 1.8009\n",
      "Epoch 11/25\n",
      "629/629 [==============================] - ETA: 0s - loss: 1.7658\n",
      "generated text:\n",
      "recipe for orange , jasmine rice glazed and pickled sturgeon | arrange half of rounds between other side of or 6 . twist artichokes in baking pan , wiping pan across top . top of remaining potatoes with artichoke frittata . turn , tossing with / meanwhile , prick squash around under skin and outer zest attached . ( drag hole off outer only ; tuck tentacles halves together in half and cut in half if necessary . wrap separately in plastic wrap and chill , turning once occasionally , at least 6 hours before serving . ) grill lamb\n",
      "\n",
      "629/629 [==============================] - 393s 625ms/step - loss: 1.7658\n",
      "Epoch 12/25\n",
      "629/629 [==============================] - ETA: 0s - loss: 1.7362\n",
      "generated text:\n",
      "recipe for new black beans with chicken and spinach gelée | toss chopped cilantro with vinegar in a shallow saucepan over medium - high heat until smooth . add coconut pieces and remaining 1 tablespoon rum in a slow stream , whisking until sauce is thick and a smooth . season with salt and pepper , then transfer to a bowl . bring hot to a a medium saucepan , add your hands until well coated with 1 / 2 teaspoon pepper . stir in lemon juice , tossing to dissolve . add eggs , one at a time and\n",
      "\n",
      "629/629 [==============================] - 390s 619ms/step - loss: 1.7362\n",
      "Epoch 13/25\n",
      "629/629 [==============================] - ETA: 0s - loss: 1.7106\n",
      "generated text:\n",
      "recipe for easy packages con boursin | place rack in oven and preheat to 375°f . heat oil in heavy large pot over medium - high heat . add potatoes , along sides with mushrooms and vinegar simmer until tender on almost tender , about 5 minutes . working and simmer about 10 minutes . remove from heat ; let beans stand , uncovered , until golden and very tender , about 20 minutes . drain and mash with 1 / 2 cup water . add to milk mixture , then add 1 1 / 2 tablespoons oil . add\n",
      "\n",
      "629/629 [==============================] - 376s 598ms/step - loss: 1.7106\n",
      "Epoch 14/25\n",
      "629/629 [==============================] - ETA: 0s - loss: 1.6878\n",
      "generated text:\n",
      "recipe for onion - braised sauce | combine raspberries and half in large ingredients ; add sage . cover and chill . garnish with chives . \n",
      "\n",
      "629/629 [==============================] - 368s 584ms/step - loss: 1.6878\n",
      "Epoch 15/25\n",
      "629/629 [==============================] - ETA: 0s - loss: 1.6675\n",
      "generated text:\n",
      "recipe for szechuan - size [UNK] with praline | combine first 5 ingredients in medium bowl . using back of spoon , transfer chicken to work surface . using your hands , cut out cucumber shapes ; cut into 1 / 4 - inch bacon . in large wineglasses ( to avoid adding melted butter . add olive oil , garlic , cayenne , and salt to taste . sauté 3 minutes , then return to dutch oven ; add 1 / 2 cups oil . add onion and simmer until beef is tender but still increase ( about 4\n",
      "\n",
      "629/629 [==============================] - 371s 589ms/step - loss: 1.6675\n",
      "Epoch 16/25\n",
      "629/629 [==============================] - ETA: 0s - loss: 1.6519\n",
      "generated text:\n",
      "recipe for spencer | combine sugar , sugar , cinnamon , and 1 / 2 teaspoon salt and bring to a boil in a 4 - quart heavy saucepan over medium heat , stirring until sugar is dissolved . halve fruit crosswise and cut crosswise into 1 / 1 - inch - thick slices . in a large bowl toss together excess flour and beat just until combined well . 5 cup larger molds in a chilled large shallow baking pan , lightly remaining 1 / 4 1 / 2 tablespoons custard and straw mixture over them . bake until\n",
      "\n",
      "629/629 [==============================] - 375s 595ms/step - loss: 1.6519\n",
      "Epoch 17/25\n",
      "629/629 [==============================] - ETA: 0s - loss: 1.6331\n",
      "generated text:\n",
      "recipe for beets , seville orange , and rosemary | cut plantains from grapefruit into 1 artichoke cuts on hearth flesh and on a cutting board with kitchen shears above edge of skins . divide quarters between 1 piece of mango and pineapple with 1 side of each pocket . in a large bowl , combine flour just baking soda . using a fork , pour 1 heaping tablespoon batter for each pancake shell and bake until golden and filling bubbles , 40 to 35 minutes . cool . peel and pit 4 peeled chocolate mixture , forming 1 /\n",
      "\n",
      "629/629 [==============================] - 376s 598ms/step - loss: 1.6331\n",
      "Epoch 18/25\n",
      "629/629 [==============================] - ETA: 0s - loss: 1.6176\n",
      "generated text:\n",
      "recipe for roasted beet bisque | stir chopped sliced raisins , horseradish , and apple in a small saucepan over medium heat , stirring frequently to coat , 15 minutes . transfer to a small bowl , and chill . preheat oven to 350°f . butter 9x9x2 - inch pan pan ; trim sides and apples packet just before wash . peel beets loosely and slice lengthwise . trim 1 / 4 inch into a sheet of foil to 1 layer . cut stacks of lemon slices in batches about 1 / 2 in 3 / 4 - inch (\n",
      "\n",
      "629/629 [==============================] - 373s 593ms/step - loss: 1.6176\n",
      "Epoch 19/25\n",
      "629/629 [==============================] - ETA: 0s - loss: 1.6037\n",
      "generated text:\n",
      "recipe for roast niçoise | preheat oven to 350°f . cut a 4 - inch plain steel or opposite holes of a box grater . ( there should be tough opening . ) cook carrots in boiling salted water until al dente . drain , reserving braising liquid , then add pasta , tossing to form 2 - cup cooking , deveined beef . return soup with a large oil ; increase heat until hot but not smoking , then add onions , if desired completely , then add pea shoots , stock , , partially cooked and chickpeas ,\n",
      "\n",
      "629/629 [==============================] - 379s 601ms/step - loss: 1.6037\n",
      "Epoch 20/25\n",
      "629/629 [==============================] - ETA: 0s - loss: 1.5904\n",
      "generated text:\n",
      "recipe for chayote rack of turkey with wasabi - roast turkey | in medium bowl , combine orange and enough cold water to cover . heat to warm roasting pan drippings in nonstick skillet over high . heat over medium - high heat until tomatoes begin to soften , about 4 minutes . add cranberries and garlic to boil , whisking constantly . cook until beginning to brown , about 6 minutes . add white parts and onions with garlic and sauté until onions start to soften and seed peppers , about 5 minutes . season mix with salt and\n",
      "\n",
      "629/629 [==============================] - 379s 602ms/step - loss: 1.5904\n",
      "Epoch 21/25\n",
      "629/629 [==============================] - ETA: 0s - loss: 1.5783\n",
      "generated text:\n",
      "recipe for watermelon - herb cucumber soup | heat oil in a medium - medium saucepan . add the asian whole zucchini , water , and chopped sherry and bring to a boil . reduce the heat to low and simmer 1 hour . add the stock ; cook until wilted . drain shrimp and refresh it in a large bowl . while the onions are still aniseed ; in a large skillet cook the garlic , fennel , open the beef , and cognac , preferably , and onion , stirring occasionally , until the mushrooms are deeply browned\n",
      "\n",
      "629/629 [==============================] - 375s 596ms/step - loss: 1.5783\n",
      "Epoch 22/25\n",
      "629/629 [==============================] - ETA: 0s - loss: 1.5668\n",
      "generated text:\n",
      "recipe for crisp garlic with rosemary gravy | cook broccoli florets , garlic , and butter in a small heavy saucepan over low heat , stirring occasionally , until cabbage begins to turn golden . let rest slightly ( use caution when blending hot liquids from corn ) , then let stand until just tender , about 3 minutes . stir in soy sauce and salt and pepper to taste . ( start over before roasting . ) transfer to a medium bowl , placing on plate and drizzle with 2 tablespoons oil and spoon over chicken . broil 30\n",
      "\n",
      "629/629 [==============================] - 378s 600ms/step - loss: 1.5668\n",
      "Epoch 23/25\n",
      "629/629 [==============================] - ETA: 0s - loss: 1.5560\n",
      "generated text:\n",
      "recipe for watermelon creams with fresh oranges and mascarpone | in a small bowl stir together confectioners sugar and cooled mango , watermelon , pomegranate syrup + 2 cup liquid , 4 teaspoon sugar , and 1 / 4 teaspoon salt in 2 nuts , then cover sweet and chill until just chilled , about 10 minutes . prepare rolls . chill syrup , overed , at least 4 hours and up to 1 hour . preheat oven to 350°f . line baking pan with parchment paper . place on baking sheet , including liner , then cut lengthwise to\n",
      "\n",
      "629/629 [==============================] - 433s 689ms/step - loss: 1.5560\n",
      "Epoch 24/25\n",
      "629/629 [==============================] - ETA: 0s - loss: 1.5459\n",
      "generated text:\n",
      "recipe for \" floating \" with lemony sugar - macadamia nuts | in a small metal bowl set over a saucepan of barely simmering water combine together milk , water , 1 3 / 2 tsp , ginger paste , 3 tablespoons juice , and 2 tablespoons sugar in a slow stream ( 85°f ) . stir in pepperoni and nuts and boil , covered , until rhubarb is tender and caramel underneath is crisp , about 25 minutes . cool slightly , then remove pot from heat and cool completely . ( alternatively , decoratively trim , score on\n",
      "\n",
      "629/629 [==============================] - 436s 693ms/step - loss: 1.5459\n",
      "Epoch 25/25\n",
      "629/629 [==============================] - ETA: 0s - loss: 1.5363\n",
      "generated text:\n",
      "recipe for chocolate brownies | preheat oven to 300°f . in a 10 - inch heavy skillet ( not heat ) over moderate heat , add sugar and 1 teaspoon butter and cook , stirring , until caramel is golden , about 2 minutes . ( if necessary , remove from heat or from a saucepan of a bowl of ice water . ) remove the oven and discard core . flake meat off all over medium heat . ) sift together flour , cocoa powder , baking soda , salt , and vanilla . set aside . eggs a\n",
      "\n",
      "629/629 [==============================] - 467s 742ms/step - loss: 1.5363\n"
     ]
    },
    {
     "data": {
      "text/plain": [
       "<keras.callbacks.History at 0x7f597c12f3d0>"
      ]
     },
     "execution_count": 59,
     "metadata": {},
     "output_type": "execute_result"
    }
   ],
   "source": [
    "lstm.fit(\n",
    "    train_ds,\n",
    "    epochs=EPOCHS,\n",
    "    callbacks=[model_checkpoint_callback, tensorboard_callback, text_generator],\n",
    ")"
   ]
  },
  {
   "cell_type": "code",
   "execution_count": 60,
   "id": "369bde44-2e39-4bc6-8549-a3a27ecce55c",
   "metadata": {
    "tags": []
   },
   "outputs": [
    {
     "name": "stderr",
     "output_type": "stream",
     "text": [
      "WARNING:absl:Found untraced functions such as lstm_cell_layer_call_fn, lstm_cell_layer_call_and_return_conditional_losses while saving (showing 2 of 2). These functions will not be directly callable after loading.\n"
     ]
    },
    {
     "name": "stdout",
     "output_type": "stream",
     "text": [
      "INFO:tensorflow:Assets written to: ./models/lstm/assets\n"
     ]
    },
    {
     "name": "stderr",
     "output_type": "stream",
     "text": [
      "INFO:tensorflow:Assets written to: ./models/lstm/assets\n"
     ]
    }
   ],
   "source": [
    "# Save the final model\n",
    "lstm.save(\"./models/lstm\")"
   ]
  },
  {
   "cell_type": "markdown",
   "id": "d64e02d2-84dc-40c8-8446-40c09adf1e20",
   "metadata": {},
   "source": [
    "## 6. Generate text using the LSTM"
   ]
  },
  {
   "cell_type": "code",
   "execution_count": 61,
   "id": "4ad23adb-3ec9-4e9a-9a59-b9f9bafca649",
   "metadata": {},
   "outputs": [],
   "source": [
    "def print_probs(info, vocab, top_k=5):\n",
    "    for i in info:\n",
    "        print(f\"\\nPROMPT: {i['prompt']}\")\n",
    "        word_probs = i[\"word_probs\"]\n",
    "        p_sorted = np.sort(word_probs)[::-1][:top_k]\n",
    "        i_sorted = np.argsort(word_probs)[::-1][:top_k]\n",
    "        for p, i in zip(p_sorted, i_sorted):\n",
    "            print(f\"{vocab[i]}:   \\t{np.round(100*p,2)}%\")\n",
    "        print(\"--------\\n\")"
   ]
  },
  {
   "cell_type": "code",
   "execution_count": 62,
   "id": "3cf25578-d47c-4b26-8252-fcdf2316a4ac",
   "metadata": {},
   "outputs": [
    {
     "name": "stdout",
     "output_type": "stream",
     "text": [
      "\n",
      "generated text:\n",
      "recipe for roasted vegetables | chop 1 / 8 inch\n",
      "\n"
     ]
    }
   ],
   "source": [
    "info = text_generator.generate(\n",
    "    \"recipe for roasted vegetables | chop 1 /\", max_tokens=10, temperature=1.0\n",
    ")"
   ]
  },
  {
   "cell_type": "code",
   "execution_count": 63,
   "id": "9df72866-b483-4489-8e26-d5e1466410fa",
   "metadata": {
    "tags": []
   },
   "outputs": [
    {
     "name": "stdout",
     "output_type": "stream",
     "text": [
      "\n",
      "PROMPT: recipe for roasted vegetables | chop 1 /\n",
      "4:   \t42.67%\n",
      "2:   \t39.88%\n",
      "3:   \t9.52%\n",
      "8:   \t6.4%\n",
      "16:   \t0.36%\n",
      "--------\n",
      "\n",
      "\n",
      "PROMPT: recipe for roasted vegetables | chop 1 / 8\n",
      "-:   \t39.74%\n",
      "inch:   \t32.56%\n",
      "cup:   \t8.99%\n",
      "of:   \t3.21%\n",
      "teaspoon:   \t3.1%\n",
      "--------\n",
      "\n"
     ]
    }
   ],
   "source": [
    "print_probs(info, vocab)"
   ]
  },
  {
   "cell_type": "code",
   "execution_count": 64,
   "id": "562e1fe8-cbcb-438f-9637-2f2a6279c924",
   "metadata": {},
   "outputs": [
    {
     "name": "stdout",
     "output_type": "stream",
     "text": [
      "\n",
      "generated text:\n",
      "recipe for roasted vegetables | chop 1 / 4 cup\n",
      "\n"
     ]
    }
   ],
   "source": [
    "info = text_generator.generate(\n",
    "    \"recipe for roasted vegetables | chop 1 /\", max_tokens=10, temperature=0.2\n",
    ")"
   ]
  },
  {
   "cell_type": "code",
   "execution_count": 65,
   "id": "56356f21-04ac-40e5-94ff-291eca6a7054",
   "metadata": {},
   "outputs": [
    {
     "name": "stdout",
     "output_type": "stream",
     "text": [
      "\n",
      "PROMPT: recipe for roasted vegetables | chop 1 /\n",
      "4:   \t58.36%\n",
      "2:   \t41.6%\n",
      "3:   \t0.03%\n",
      "8:   \t0.0%\n",
      "16:   \t0.0%\n",
      "--------\n",
      "\n",
      "\n",
      "PROMPT: recipe for roasted vegetables | chop 1 / 4\n",
      "-:   \t56.54%\n",
      "cup:   \t42.11%\n",
      "inch:   \t1.35%\n",
      "of:   \t0.0%\n",
      "to:   \t0.0%\n",
      "--------\n",
      "\n"
     ]
    }
   ],
   "source": [
    "print_probs(info, vocab)"
   ]
  },
  {
   "cell_type": "code",
   "execution_count": 66,
   "id": "2e434497-07f3-4989-a68d-3e31cf8fa4fe",
   "metadata": {},
   "outputs": [
    {
     "name": "stdout",
     "output_type": "stream",
     "text": [
      "\n",
      "generated text:\n",
      "recipe for chocolate ice cream | preheat\n",
      "\n",
      "\n",
      "PROMPT: recipe for chocolate ice cream |\n",
      "preheat:   \t19.03%\n",
      "bring:   \t9.78%\n",
      "in:   \t9.7%\n",
      "1:   \t5.74%\n",
      "whisk:   \t5.23%\n",
      "--------\n",
      "\n"
     ]
    }
   ],
   "source": [
    "info = text_generator.generate(\n",
    "    \"recipe for chocolate ice cream |\", max_tokens=7, temperature=1.0\n",
    ")\n",
    "print_probs(info, vocab)"
   ]
  },
  {
   "cell_type": "code",
   "execution_count": 67,
   "id": "011cd0e0-956c-4a63-8ec3-f7dfed31764e",
   "metadata": {},
   "outputs": [
    {
     "name": "stdout",
     "output_type": "stream",
     "text": [
      "\n",
      "generated text:\n",
      "recipe for chocolate ice cream | preheat\n",
      "\n",
      "\n",
      "PROMPT: recipe for chocolate ice cream |\n",
      "preheat:   \t92.97%\n",
      "bring:   \t3.34%\n",
      "in:   \t3.19%\n",
      "1:   \t0.23%\n",
      "whisk:   \t0.15%\n",
      "--------\n",
      "\n"
     ]
    }
   ],
   "source": [
    "info = text_generator.generate(\n",
    "    \"recipe for chocolate ice cream |\", max_tokens=7, temperature=0.2\n",
    ")\n",
    "print_probs(info, vocab)"
   ]
  },
  {
   "cell_type": "code",
   "execution_count": null,
   "id": "4453a8eb-d356-4efa-8ec2-bf2177c9269b",
   "metadata": {},
   "outputs": [],
   "source": []
  }
 ],
 "metadata": {
  "kernelspec": {
   "display_name": "Python 3 (ipykernel)",
   "language": "python",
   "name": "python3"
  },
  "language_info": {
   "codemirror_mode": {
    "name": "ipython",
    "version": 3
   },
   "file_extension": ".py",
   "mimetype": "text/x-python",
   "name": "python",
   "nbconvert_exporter": "python",
   "pygments_lexer": "ipython3",
   "version": "3.8.10"
  }
 },
 "nbformat": 4,
 "nbformat_minor": 5
}
